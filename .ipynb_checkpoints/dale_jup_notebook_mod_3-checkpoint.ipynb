{
 "cells": [
  {
   "cell_type": "markdown",
   "metadata": {},
   "source": [
    "# Pitchfork review analysis\n",
    "### made by $DS^3$\n",
    "June 26, 2019"
   ]
  },
  {
   "cell_type": "code",
   "execution_count": null,
   "metadata": {},
   "outputs": [],
   "source": [
    "# for database\n",
    "import psycopg2\n",
    "\n",
    "# for data science\n",
    "import numpy as np\n",
    "import pandas as pd\n",
    "from dale_functions_mod3 import import_data\n",
    "\n",
    "# for statistics\n",
    "from scipy import stats\n",
    "\n",
    "%load_ext autoreload\n",
    "%autoreload 2"
   ]
  },
  {
   "cell_type": "code",
   "execution_count": null,
   "metadata": {},
   "outputs": [],
   "source": [
    "genres_df = import_data(\"genres\", 'genres_df')\n",
    "reviews_df = import_data('reviews', 'reviews_df')\n",
    "labels_df = import_data('labels', 'labels_df')"
   ]
  },
  {
   "cell_type": "code",
   "execution_count": null,
   "metadata": {},
   "outputs": [],
   "source": [
    "clean_reviews_df = reviews_df[['reviewid', 'score']]\n",
    "reviews_labels_df = clean_reviews_df.merge(labels_df, how='left', on='reviewid')\n",
    "music_df = reviews_labels_df.merge(genres_df, how='left', on='reviewid')"
   ]
  },
  {
   "cell_type": "code",
   "execution_count": null,
   "metadata": {},
   "outputs": [],
   "source": [
    "music_df[music_df['genre'] == 'folk/country'].score.count()\n",
    "country_scores = music_df[music_df['genre'] == 'folk/country'].score\n",
    "electronic_scores = music_df[music_df['genre'] == 'electronic'].score"
   ]
  },
  {
   "cell_type": "code",
   "execution_count": null,
   "metadata": {},
   "outputs": [],
   "source": [
    "def welch_t(a, b):\n",
    "    \n",
    "    \"\"\" Calculate Welch's t statistic for two samples. \"\"\"\n",
    "    numerator = a.mean() - b.mean()\n",
    "    \n",
    "    # “ddof = Delta Degrees of Freedom”: the divisor used in the calculation is N - ddof, \n",
    "    #  where N represents the number of elements. By default ddof is zero.\n",
    "    \n",
    "    denominator = np.sqrt(a.var(ddof=1)/a.size + b.var(ddof=1)/b.size)\n",
    "    \n",
    "    return np.abs(numerator/denominator)\n",
    "\n",
    "t = welch_t(country_scores, electronic_scores)\n",
    "\n",
    "music_df[music_df['genre'] == 'electronic'].score.size\n",
    "\n",
    "music_df.shape\n",
    "\n",
    "def welch_df(a, b):\n",
    "    \n",
    "    s1 = a.var(ddof=1)\n",
    "    s2 = b.var(ddof=1)\n",
    "    n1 = a.size\n",
    "    n2 = b.size\n",
    "    numerator = (s1/n1 + s2/n2)**2\n",
    "    denominator = (s1/ n1)**2/(n1 - 1) + (s2/ n2)**2/(n2 - 1)\n",
    "    \n",
    "    return numerator/denominator\n",
    "\n",
    "de_free = welch_df(country_scores, electronic_scores)\n",
    "\n",
    "import scipy.stats as stats\n",
    "p = 1 - stats.t.cdf(t, de_free)\n",
    "\n",
    "p\n",
    "\n",
    "The genre's were rated very differently between folk/country and electronic with a welch's P value of 1.69e-11\n",
    "\n",
    "\n",
    "\n",
    "len(electronic_scores)\n",
    "\n",
    "len(country_scores)\n",
    "\n",
    "music_df.head()\n",
    "\n",
    "music_df[music_df['genre'] == 'electronic'].score\n",
    "\n",
    "touch_and_go_df = music_df[music_df['label'] =='touch and go']\n",
    "\n",
    "touch_and_go_df.shape\n",
    "\n",
    "\n",
    "\n",
    "\n",
    "other_label_df = music_df[music_df['label'] !='touch and go']\n",
    "\n",
    "other_label_df.shape\n",
    "\n",
    "touch_and_go_scores = music_df[music_df['label'] =='touch and go'].score\n",
    "other_scores = music_df[music_df['label'] !='touch and go'].score\n",
    "\n",
    "#alpha = .05\n",
    "t = welch_t(touch_and_go_scores, other_scores)\n",
    "de_free = welch_df(touch_and_go_scores, other_scores)\n",
    "p = 1 - stats.t.cdf(t, de_free)\n",
    "p"
   ]
  },
  {
   "cell_type": "code",
   "execution_count": null,
   "metadata": {},
   "outputs": [],
   "source": [
    "The label doesn't matter for the ratings the p value = .26 for welch's t test"
   ]
  }
 ],
 "metadata": {
  "kernelspec": {
   "display_name": "Python 3",
   "language": "python",
   "name": "python3"
  },
  "language_info": {
   "codemirror_mode": {
    "name": "ipython",
    "version": 3
   },
   "file_extension": ".py",
   "mimetype": "text/x-python",
   "name": "python",
   "nbconvert_exporter": "python",
   "pygments_lexer": "ipython3",
   "version": "3.7.3"
  }
 },
 "nbformat": 4,
 "nbformat_minor": 2
}
